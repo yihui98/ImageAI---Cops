{
  "nbformat": 4,
  "nbformat_minor": 0,
  "metadata": {
    "colab": {
      "name": "TayYiHuiCopsProject.ipynb",
      "provenance": [],
      "collapsed_sections": [],
      "authorship_tag": "ABX9TyMKLvSZ8ZBq+okSheUAYcKF",
      "include_colab_link": true
    },
    "kernelspec": {
      "name": "python3",
      "display_name": "Python 3"
    },
    "accelerator": "GPU"
  },
  "cells": [
    {
      "cell_type": "markdown",
      "metadata": {
        "id": "view-in-github",
        "colab_type": "text"
      },
      "source": [
        "<a href=\"https://colab.research.google.com/github/yihui98/ImageAI---Cops/blob/master/TayYiHuiCopsProject.ipynb\" target=\"_parent\"><img src=\"https://colab.research.google.com/assets/colab-badge.svg\" alt=\"Open In Colab\"/></a>"
      ]
    },
    {
      "cell_type": "markdown",
      "metadata": {
        "id": "y1pMHhplumoZ",
        "colab_type": "text"
      },
      "source": [
        "Code for determining the nature of actions (Good/Bad) in the context of cops.\n",
        "\n",
        "After seeing the state of unrest around the world, I've decided to try and create a model which can determine the nature of actions executed by cops. For us, it is intuitive when cops behave badly, so I thought it would be interesting to see it from a machine point of view."
      ]
    },
    {
      "cell_type": "code",
      "metadata": {
        "id": "mw_d0_HYuh95",
        "colab_type": "code",
        "colab": {}
      },
      "source": [
        "%matplotlib inline\n",
        "\n",
        "import os\n",
        "import tensorflow as tf\n",
        "import pandas as pd\n",
        "\n",
        "from tensorflow.keras.models import Model\n",
        "from tensorflow.keras.layers import Dense,Dropout, Flatten,Input,Conv2D,MaxPooling2D,GlobalAveragePooling2D\n",
        "from glob import glob\n",
        "from tensorflow.keras.preprocessing import image\n",
        "\n"
      ],
      "execution_count": null,
      "outputs": []
    },
    {
      "cell_type": "code",
      "metadata": {
        "id": "DHnGKfivLkUY",
        "colab_type": "code",
        "colab": {
          "base_uri": "https://localhost:8080/",
          "height": 35
        },
        "outputId": "e6b8d1d9-e4c8-4c5b-e519-df065d2edefb"
      },
      "source": [
        "device_name = tf.test.gpu_device_name()\n",
        "if device_name != '/device:GPU:0':\n",
        "  raise SystemError('GPU device not found')\n",
        "print('Found GPU at: {}'.format(device_name))"
      ],
      "execution_count": null,
      "outputs": [
        {
          "output_type": "stream",
          "text": [
            "Found GPU at: /device:GPU:0\n"
          ],
          "name": "stdout"
        }
      ]
    },
    {
      "cell_type": "code",
      "metadata": {
        "id": "-Uym6oXzu3Sz",
        "colab_type": "code",
        "colab": {
          "base_uri": "https://localhost:8080/",
          "height": 332
        },
        "outputId": "7f9c7c99-bebb-46e4-b3cf-109c037a297d"
      },
      "source": [
        "\n",
        "!wget https://www.dropbox.com/sh/raw/3uwqwxx5qv10ibd/AAC3h10JYzZoper-hNjS4oOHa\n"
      ],
      "execution_count": null,
      "outputs": [
        {
          "output_type": "stream",
          "text": [
            "--2020-06-05 08:02:06--  https://www.dropbox.com/sh/raw/3uwqwxx5qv10ibd/AAC3h10JYzZoper-hNjS4oOHa\n",
            "Resolving www.dropbox.com (www.dropbox.com)... 162.125.65.1, 2620:100:6021:1::a27d:4101\n",
            "Connecting to www.dropbox.com (www.dropbox.com)|162.125.65.1|:443... connected.\n",
            "HTTP request sent, awaiting response... 302 Found\n",
            "Location: https://uc0072336370b613d1833f51a7fa.dl.dropboxusercontent.com/zip_download_get/Acf-mWAlxF3yZO20ko-4GSvyoJuC_2lOU9VR9XIqDR_39SxKv4YKP-n7Fwj3atxvbPaFRpRrpEg7f_TQX9Qx6tV9KlPncxCepm5Orvgak5YJYg [following]\n",
            "--2020-06-05 08:02:09--  https://uc0072336370b613d1833f51a7fa.dl.dropboxusercontent.com/zip_download_get/Acf-mWAlxF3yZO20ko-4GSvyoJuC_2lOU9VR9XIqDR_39SxKv4YKP-n7Fwj3atxvbPaFRpRrpEg7f_TQX9Qx6tV9KlPncxCepm5Orvgak5YJYg\n",
            "Resolving uc0072336370b613d1833f51a7fa.dl.dropboxusercontent.com (uc0072336370b613d1833f51a7fa.dl.dropboxusercontent.com)... 162.125.65.15, 2620:100:6021:15::a27d:410f\n",
            "Connecting to uc0072336370b613d1833f51a7fa.dl.dropboxusercontent.com (uc0072336370b613d1833f51a7fa.dl.dropboxusercontent.com)|162.125.65.15|:443... connected.\n",
            "HTTP request sent, awaiting response... 200 OK\n",
            "Length: 3339028 (3.2M) [application/zip]\n",
            "Saving to: ‘AAC3h10JYzZoper-hNjS4oOHa.4’\n",
            "\n",
            "AAC3h10JYzZoper-hNj 100%[===================>]   3.18M   438KB/s    in 7.4s    \n",
            "\n",
            "2020-06-05 08:02:18 (438 KB/s) - ‘AAC3h10JYzZoper-hNjS4oOHa.4’ saved [3339028/3339028]\n",
            "\n"
          ],
          "name": "stdout"
        }
      ]
    },
    {
      "cell_type": "code",
      "metadata": {
        "id": "R06WjzFG4AZg",
        "colab_type": "code",
        "colab": {
          "base_uri": "https://localhost:8080/",
          "height": 54
        },
        "outputId": "a87c19bf-23d3-416e-9640-21e788486c11"
      },
      "source": [
        "!unzip AAC3h10JYzZoper-hNjS4oOHa -x /\n"
      ],
      "execution_count": null,
      "outputs": [
        {
          "output_type": "stream",
          "text": [
            "Archive:  AAC3h10JYzZoper-hNjS4oOHa\n",
            "replace Bad cops/Z.jpg? [y]es, [n]o, [A]ll, [N]one, [r]ename: N\n"
          ],
          "name": "stdout"
        }
      ]
    },
    {
      "cell_type": "code",
      "metadata": {
        "id": "LDB6UN4lul07",
        "colab_type": "code",
        "colab": {
          "base_uri": "https://localhost:8080/",
          "height": 460
        },
        "outputId": "72c423ee-5014-4c79-a64b-0e263ad4afe8"
      },
      "source": [
        "!ls 'Bad cops'\n"
      ],
      "execution_count": null,
      "outputs": [
        {
          "output_type": "stream",
          "text": [
            "'2Q__ (10).jpg'  '9k_ (1).jpg'\t    'images (24).jpg'  'images (8).jpg'\n",
            "'2Q__ (11).jpg'  '9k_ (20).jpg'     'images (25).jpg'  'images (9).jpg'\n",
            "'2Q__ (12).jpg'  '9k_ (21).jpg'     'images (27).jpg'  'Z (11).jpg'\n",
            "'2Q__ (13).jpg'  '9k_ (22).jpg'     'images (28).jpg'  'Z (12).jpg'\n",
            "'2Q__ (14).jpg'  '9k_ (2).jpg'\t    'images (29).jpg'  'Z (13).jpg'\n",
            "'2Q__ (15).jpg'  '9k_ (3).jpg'\t    'images (2).jpg'   'Z (14).jpg'\n",
            "'2Q__ (1).jpg'\t '9k_ (4).jpg'\t    'images (30).jpg'  'Z (15).jpg'\n",
            "'2Q__ (2).jpg'\t '9k_ (7).jpg'\t    'images (31).jpg'  'Z (17).jpg'\n",
            "'2Q__ (3).jpg'\t '9k_ (8).jpg'\t    'images (32).jpg'  'Z (18).jpg'\n",
            "'2Q__ (4).jpg'\t '9k_ (9).jpg'\t    'images (33).jpg'  'Z (19).jpg'\n",
            "'2Q__ (6).jpg'\t  9k_.jpg\t    'images (34).jpg'  'Z (1).jpg'\n",
            "'2Q__ (7).jpg'\t 'images (10).jpg'  'images (35).jpg'  'Z (20).jpg'\n",
            "'2Q__ (8).jpg'\t 'images (11).jpg'  'images (37).jpg'  'Z (21).jpg'\n",
            "'2Q__ (9).jpg'\t 'images (12).jpg'  'images (38).jpg'  'Z (22).jpg'\n",
            " 2Q__.jpg\t 'images (13).jpg'  'images (39).jpg'  'Z (23).jpg'\n",
            "'9k_ (10).jpg'\t 'images (14).jpg'  'images (3).jpg'   'Z (2).jpg'\n",
            "'9k_ (11).jpg'\t 'images (15).jpg'  'images (40).jpg'  'Z (3).jpg'\n",
            "'9k_ (12).jpg'\t 'images (17).jpg'  'images (41).jpg'  'Z (6).jpg'\n",
            "'9k_ (13).jpg'\t 'images (18).jpg'  'images (42).jpg'  'Z (7).jpg'\n",
            "'9k_ (15).jpg'\t 'images (19).jpg'  'images (43).jpg'  'Z (8).jpg'\n",
            "'9k_ (16).jpg'\t 'images (1).jpg'   'images (4).jpg'   'Z (9).jpg'\n",
            "'9k_ (17).jpg'\t 'images (20).jpg'  'images (5).jpg'    Z.jpg\n",
            "'9k_ (18).jpg'\t 'images (21).jpg'  'images (6).jpg'\n",
            "'9k_ (19).jpg'\t 'images (22).jpg'  'images (7).jpg'\n"
          ],
          "name": "stdout"
        }
      ]
    },
    {
      "cell_type": "markdown",
      "metadata": {
        "id": "zUGtgpm-3ZDn",
        "colab_type": "text"
      },
      "source": [
        ""
      ]
    },
    {
      "cell_type": "code",
      "metadata": {
        "id": "qvEuli9zu7Gy",
        "colab_type": "code",
        "colab": {}
      },
      "source": [
        "batch_size = 10\n",
        "epochs = 10\n",
        "lr = 0.001"
      ],
      "execution_count": null,
      "outputs": []
    },
    {
      "cell_type": "markdown",
      "metadata": {
        "id": "O-d46ebZ3G3q",
        "colab_type": "text"
      },
      "source": [
        "Converting raw files into data"
      ]
    },
    {
      "cell_type": "code",
      "metadata": {
        "id": "QoQvedpR3KQT",
        "colab_type": "code",
        "colab": {
          "base_uri": "https://localhost:8080/",
          "height": 202
        },
        "outputId": "ca743575-c06c-4124-c520-4f58387d7070"
      },
      "source": [
        "paths = ['Good cops', 'Bad cops']\n",
        "\n",
        "data = []\n",
        "for path in paths:\n",
        "  for root, dirs, files in os.walk(path, topdown=True):\n",
        "    for name in files:\n",
        "      if '.jpg' not in name:\n",
        "        continue\n",
        "      filename = os.path.abspath(os.path.join(root, name))\n",
        "      class_name = os.path.basename(root)\n",
        "      data.append((filename, class_name))\n",
        "\n",
        "df = pd.DataFrame(data, columns=['filename', 'class_name'])\n",
        "\n",
        "df['class_name'] = df['class_name'].astype('category')\n",
        "df['class'] = df['class_name'].cat.codes\n",
        "\n",
        "#shuffle\n",
        "df = df.sample(frac=1).reset_index(drop=True)\n",
        "\n",
        "print(df.head())\n",
        "df.dtypes"
      ],
      "execution_count": null,
      "outputs": [
        {
          "output_type": "stream",
          "text": [
            "                                         filename class_name  class\n",
            "0  /content/Good cops/cool-police-officers-16.jpg  Good cops      1\n",
            "1              /content/Good cops/images (27).jpg  Good cops      1\n",
            "2              /content/Good cops/images (36).jpg  Good cops      1\n",
            "3               /content/Bad cops/images (21).jpg   Bad cops      0\n",
            "4                    /content/Good cops/Z (3).jpg  Good cops      1\n"
          ],
          "name": "stdout"
        },
        {
          "output_type": "execute_result",
          "data": {
            "text/plain": [
              "filename        object\n",
              "class_name    category\n",
              "class             int8\n",
              "dtype: object"
            ]
          },
          "metadata": {
            "tags": []
          },
          "execution_count": 7
        }
      ]
    },
    {
      "cell_type": "code",
      "metadata": {
        "id": "lJSnirbA330I",
        "colab_type": "code",
        "colab": {
          "base_uri": "https://localhost:8080/",
          "height": 35
        },
        "outputId": "2bf5b272-9c3f-45a6-8c34-4a2f20c26e7d"
      },
      "source": [
        "len(df)"
      ],
      "execution_count": null,
      "outputs": [
        {
          "output_type": "execute_result",
          "data": {
            "text/plain": [
              "187"
            ]
          },
          "metadata": {
            "tags": []
          },
          "execution_count": 8
        }
      ]
    },
    {
      "cell_type": "code",
      "metadata": {
        "id": "QjNHoQ4T4aMw",
        "colab_type": "code",
        "colab": {}
      },
      "source": [
        "# Split into train and validation sets\n",
        "train_set_percentage = .83\n",
        "\n",
        "df = df[:int(len(df)*train_set_percentage)]\n",
        "df_val = df[int(len(df)*train_set_percentage):]\n",
        "\n",
        "#shuffle\n",
        "df = df.sample(frac=1).reset_index(drop=True)\n",
        "df_val = df_val.sample(frac=1).reset_index(drop=True)"
      ],
      "execution_count": null,
      "outputs": []
    },
    {
      "cell_type": "code",
      "metadata": {
        "id": "mkyFjz9U4cOB",
        "colab_type": "code",
        "colab": {
          "base_uri": "https://localhost:8080/",
          "height": 72
        },
        "outputId": "8042e450-c023-458c-c635-1ba3cdcb7427"
      },
      "source": [
        "df.head(10)\n",
        "print(df.shape)\n",
        "print(df_val.shape)\n",
        "\n",
        "df['class'].unique()"
      ],
      "execution_count": null,
      "outputs": [
        {
          "output_type": "stream",
          "text": [
            "(155, 3)\n",
            "(27, 3)\n"
          ],
          "name": "stdout"
        },
        {
          "output_type": "execute_result",
          "data": {
            "text/plain": [
              "array([0, 1], dtype=int8)"
            ]
          },
          "metadata": {
            "tags": []
          },
          "execution_count": 10
        }
      ]
    },
    {
      "cell_type": "markdown",
      "metadata": {
        "id": "cy7oConf5F9Q",
        "colab_type": "text"
      },
      "source": [
        "Pipeline for loading and resizing images\n"
      ]
    },
    {
      "cell_type": "code",
      "metadata": {
        "id": "xXF_-E0E5G7I",
        "colab_type": "code",
        "colab": {}
      },
      "source": [
        "img_width, img_height = 300,300\n",
        "num_classes = 2\n",
        "\n",
        "def _parse_function(filename, label):\n",
        "  image_string = tf.io.read_file(filename)\n",
        "  image_decoded = tf.image.decode_jpeg(image_string,channels=3)\n",
        "  image_resized = tf.image.resize(image_decoded, [img_width, img_height])\n",
        "  label = tf.one_hot(label, num_classes)\n",
        "  return image_resized, label"
      ],
      "execution_count": null,
      "outputs": []
    },
    {
      "cell_type": "code",
      "metadata": {
        "id": "zeViDRh15UB7",
        "colab_type": "code",
        "colab": {
          "base_uri": "https://localhost:8080/",
          "height": 35
        },
        "outputId": "42e6d962-b759-4765-8aa4-075448165224"
      },
      "source": [
        "train_dataset = tf.data.Dataset.from_tensor_slices((tf.cast(df['filename'].values, tf.string),\n",
        "                                                    tf.cast(df['class'].values, tf.int32) ))\n",
        "train_dataset= train_dataset.map(_parse_function)\n",
        "train_dataset = train_dataset.apply(tf.data.experimental.ignore_errors())\n",
        "train_dataset = train_dataset.shuffle(1000)\n",
        "train_dataset = train_dataset.repeat(100)\n",
        "train_dataset = train_dataset.batch(32, drop_remainder = True)\n",
        "\n",
        "train_dataset"
      ],
      "execution_count": null,
      "outputs": [
        {
          "output_type": "execute_result",
          "data": {
            "text/plain": [
              "<BatchDataset shapes: ((32, 300, 300, 3), (32, 2)), types: (tf.float32, tf.float32)>"
            ]
          },
          "metadata": {
            "tags": []
          },
          "execution_count": 12
        }
      ]
    },
    {
      "cell_type": "code",
      "metadata": {
        "id": "dbgmVr0I5w-L",
        "colab_type": "code",
        "colab": {}
      },
      "source": [
        "valid_dataset = tf.data.Dataset.from_tensor_slices((tf.cast(df_val['filename'].values, tf.string),\n",
        "                                                    tf.cast(df_val['class'].values, tf.int32) ))\n",
        "valid_dataset = valid_dataset.map(_parse_function)\n",
        "valid_dataset = valid_dataset.apply(tf.data.experimental.ignore_errors())\n",
        "valid_dataset = valid_dataset.batch(32)\n"
      ],
      "execution_count": null,
      "outputs": []
    },
    {
      "cell_type": "markdown",
      "metadata": {
        "id": "7bT7ZnGL6Zru",
        "colab_type": "text"
      },
      "source": [
        "Importing of Model\n"
      ]
    },
    {
      "cell_type": "code",
      "metadata": {
        "id": "OSFqEBlhbzc7",
        "colab_type": "code",
        "colab": {}
      },
      "source": [
        ""
      ],
      "execution_count": null,
      "outputs": []
    },
    {
      "cell_type": "code",
      "metadata": {
        "id": "rTqC-bYT6iQo",
        "colab_type": "code",
        "colab": {}
      },
      "source": [
        "base_model = tf.keras.applications.VGG16(weights = 'imagenet', include_top = False, input_shape = (300,300,3), pooling = None)"
      ],
      "execution_count": null,
      "outputs": []
    },
    {
      "cell_type": "code",
      "metadata": {
        "id": "v_AS1kVNWYP2",
        "colab_type": "code",
        "colab": {}
      },
      "source": [
        "\n",
        "x = base_model.output\n",
        "x = GlobalAveragePooling2D()(x)\n",
        "x = Dense(512, activation = 'relu')(x)\n",
        "x = Dropout(0.5)(x)\n",
        "predictions = Dense(2, activation = 'softmax')(x)\n",
        "model = Model(inputs = base_model.input, outputs = predictions)\n"
      ],
      "execution_count": null,
      "outputs": []
    },
    {
      "cell_type": "code",
      "metadata": {
        "id": "TqlJs47VZnwi",
        "colab_type": "code",
        "colab": {}
      },
      "source": [
        "for layer in base_model.layers:\n",
        "  layer_trainable = False"
      ],
      "execution_count": null,
      "outputs": []
    },
    {
      "cell_type": "code",
      "metadata": {
        "id": "zsr04OlIZnJ5",
        "colab_type": "code",
        "colab": {
          "base_uri": "https://localhost:8080/",
          "height": 386
        },
        "outputId": "1db4404e-eade-4299-c269-67b660761963"
      },
      "source": [
        "\n",
        "opt = tf.keras.optimizers.Adam()\n",
        "model.compile(optimizer = opt, loss = 'categorical_crossentropy', metrics = ['accuracy'])\n",
        "train_steps = int(15)\n",
        "val_steps = int(1)\n",
        "\n",
        "history = model.fit(train_dataset,steps_per_epoch = train_steps, epochs = epochs, validation_data = valid_dataset, validation_steps= val_steps)\n"
      ],
      "execution_count": null,
      "outputs": [
        {
          "output_type": "stream",
          "text": [
            "Epoch 1/10\n",
            "15/15 [==============================] - 22s 1s/step - loss: 0.9363 - accuracy: 0.5188 - val_loss: 0.6888 - val_accuracy: 0.5556\n",
            "Epoch 2/10\n",
            "15/15 [==============================] - 22s 1s/step - loss: 0.6985 - accuracy: 0.4896 - val_loss: 0.6913 - val_accuracy: 0.5556\n",
            "Epoch 3/10\n",
            "15/15 [==============================] - 22s 1s/step - loss: 0.7112 - accuracy: 0.5354 - val_loss: 0.6883 - val_accuracy: 0.5556\n",
            "Epoch 4/10\n",
            "15/15 [==============================] - 22s 1s/step - loss: 0.6931 - accuracy: 0.5104 - val_loss: 0.6889 - val_accuracy: 0.5556\n",
            "Epoch 5/10\n",
            "15/15 [==============================] - 22s 1s/step - loss: 0.6901 - accuracy: 0.5417 - val_loss: 0.6887 - val_accuracy: 0.5556\n",
            "Epoch 6/10\n",
            "15/15 [==============================] - 22s 1s/step - loss: 0.6932 - accuracy: 0.5208 - val_loss: 0.6892 - val_accuracy: 0.5556\n",
            "Epoch 7/10\n",
            "15/15 [==============================] - 22s 1s/step - loss: 0.6905 - accuracy: 0.5333 - val_loss: 0.6900 - val_accuracy: 0.5556\n",
            "Epoch 8/10\n",
            "15/15 [==============================] - 22s 1s/step - loss: 0.7215 - accuracy: 0.5083 - val_loss: 0.7496 - val_accuracy: 0.4444\n",
            "Epoch 9/10\n",
            "15/15 [==============================] - 22s 1s/step - loss: 0.7108 - accuracy: 0.4917 - val_loss: 0.6886 - val_accuracy: 0.5556\n",
            "Epoch 10/10\n",
            "15/15 [==============================] - 22s 1s/step - loss: 0.6992 - accuracy: 0.5000 - val_loss: 0.6885 - val_accuracy: 0.5556\n"
          ],
          "name": "stdout"
        }
      ]
    },
    {
      "cell_type": "markdown",
      "metadata": {
        "id": "u-n2gX8AMP6J",
        "colab_type": "text"
      },
      "source": [
        "Ok, so this code is an absolute failure, so I did that the exact same thing, but used a different model and ReduceLROnPlateau and the results are too good to be true. It might be due to the huge increase in depth."
      ]
    },
    {
      "cell_type": "code",
      "metadata": {
        "id": "qnlzwMb4MfWH",
        "colab_type": "code",
        "colab": {
          "base_uri": "https://localhost:8080/",
          "height": 54
        },
        "outputId": "6f2a3400-760d-4245-cd18-61a6846a8225"
      },
      "source": [
        "\n",
        "second_model = tf.keras.applications.Xception(weights = 'imagenet', include_top = False, input_shape = (300,300,3), pooling = None)"
      ],
      "execution_count": null,
      "outputs": [
        {
          "output_type": "stream",
          "text": [
            "Downloading data from https://storage.googleapis.com/tensorflow/keras-applications/xception/xception_weights_tf_dim_ordering_tf_kernels_notop.h5\n",
            "83689472/83683744 [==============================] - 1s 0us/step\n"
          ],
          "name": "stdout"
        }
      ]
    },
    {
      "cell_type": "code",
      "metadata": {
        "id": "yv2Gg7eSN7fD",
        "colab_type": "code",
        "colab": {}
      },
      "source": [
        "x = second_model.output\n",
        "x = GlobalAveragePooling2D()(x)\n",
        "x = Dense(512, activation = 'relu')(x)\n",
        "x = Dropout(0.5)(x)\n",
        "predictions = Dense(2, activation = 'softmax')(x)\n",
        "model_2 = Model(inputs = second_model.input, outputs = predictions)"
      ],
      "execution_count": null,
      "outputs": []
    },
    {
      "cell_type": "code",
      "metadata": {
        "id": "XNi7gvwyOCiI",
        "colab_type": "code",
        "colab": {}
      },
      "source": [
        "for layer in second_model.layers:\n",
        "  layer_trainable = False"
      ],
      "execution_count": null,
      "outputs": []
    },
    {
      "cell_type": "code",
      "metadata": {
        "id": "Z3QCki2WQpvd",
        "colab_type": "code",
        "colab": {}
      },
      "source": [
        "checkpoint = tf.keras.callbacks.ModelCheckpoint('./checkpoints/best_weights.hdf5', monitor = 'val_accuracy', verbose= 1, save_best_only= True, mode= 'auto')\n",
        "reduce_LR = tf.keras.callbacks.ReduceLROnPlateau(monitor='val_loss', factor = 0.8, patience = 1, cooldown = 0, min_lr = 0.00001)"
      ],
      "execution_count": null,
      "outputs": []
    },
    {
      "cell_type": "code",
      "metadata": {
        "id": "CLUirD60OEUR",
        "colab_type": "code",
        "colab": {
          "base_uri": "https://localhost:8080/",
          "height": 776
        },
        "outputId": "046d043c-6445-4d75-cc69-5514ec1d5c83"
      },
      "source": [
        "opt = tf.keras.optimizers.Adam()\n",
        "model_2.compile(optimizer = opt, loss = 'categorical_crossentropy', metrics = ['accuracy'])\n",
        "train_steps = int(15)\n",
        "val_steps = int(1)\n",
        "\n",
        "history_2 = model_2.fit(train_dataset,steps_per_epoch = train_steps, epochs = epochs, validation_data = valid_dataset, validation_steps= val_steps, callbacks = [checkpoint, reduce_LR])"
      ],
      "execution_count": null,
      "outputs": [
        {
          "output_type": "stream",
          "text": [
            "Epoch 1/10\n",
            "15/15 [==============================] - ETA: 0s - loss: 0.2491 - accuracy: 0.8938\n",
            "Epoch 00001: val_accuracy improved from -inf to 0.44444, saving model to ./checkpoints/best_weights.hdf5\n",
            "15/15 [==============================] - 34s 2s/step - loss: 0.2491 - accuracy: 0.8938 - val_loss: 5.7824 - val_accuracy: 0.4444 - lr: 0.0010\n",
            "Epoch 2/10\n",
            "15/15 [==============================] - ETA: 0s - loss: 0.0685 - accuracy: 0.9854\n",
            "Epoch 00002: val_accuracy did not improve from 0.44444\n",
            "15/15 [==============================] - 32s 2s/step - loss: 0.0685 - accuracy: 0.9854 - val_loss: 9.6862 - val_accuracy: 0.4444 - lr: 0.0010\n",
            "Epoch 3/10\n",
            "15/15 [==============================] - ETA: 0s - loss: 0.1137 - accuracy: 0.9708\n",
            "Epoch 00003: val_accuracy did not improve from 0.44444\n",
            "15/15 [==============================] - 32s 2s/step - loss: 0.1137 - accuracy: 0.9708 - val_loss: 12.3742 - val_accuracy: 0.4444 - lr: 8.0000e-04\n",
            "Epoch 4/10\n",
            "15/15 [==============================] - ETA: 0s - loss: 0.0267 - accuracy: 0.9937\n",
            "Epoch 00004: val_accuracy improved from 0.44444 to 0.66667, saving model to ./checkpoints/best_weights.hdf5\n",
            "15/15 [==============================] - 32s 2s/step - loss: 0.0267 - accuracy: 0.9937 - val_loss: 2.6116 - val_accuracy: 0.6667 - lr: 6.4000e-04\n",
            "Epoch 5/10\n",
            "15/15 [==============================] - ETA: 0s - loss: 0.0253 - accuracy: 0.9917\n",
            "Epoch 00005: val_accuracy improved from 0.66667 to 0.81481, saving model to ./checkpoints/best_weights.hdf5\n",
            "15/15 [==============================] - 32s 2s/step - loss: 0.0253 - accuracy: 0.9917 - val_loss: 0.6197 - val_accuracy: 0.8148 - lr: 6.4000e-04\n",
            "Epoch 6/10\n",
            "15/15 [==============================] - ETA: 0s - loss: 0.0046 - accuracy: 0.9979\n",
            "Epoch 00006: val_accuracy improved from 0.81481 to 0.92593, saving model to ./checkpoints/best_weights.hdf5\n",
            "15/15 [==============================] - 32s 2s/step - loss: 0.0046 - accuracy: 0.9979 - val_loss: 0.2108 - val_accuracy: 0.9259 - lr: 6.4000e-04\n",
            "Epoch 7/10\n",
            "15/15 [==============================] - ETA: 0s - loss: 0.0324 - accuracy: 0.9979\n",
            "Epoch 00007: val_accuracy did not improve from 0.92593\n",
            "15/15 [==============================] - 32s 2s/step - loss: 0.0324 - accuracy: 0.9979 - val_loss: 0.6069 - val_accuracy: 0.9259 - lr: 6.4000e-04\n",
            "Epoch 8/10\n",
            "15/15 [==============================] - ETA: 0s - loss: 9.0559e-04 - accuracy: 1.0000\n",
            "Epoch 00008: val_accuracy improved from 0.92593 to 1.00000, saving model to ./checkpoints/best_weights.hdf5\n",
            "15/15 [==============================] - 32s 2s/step - loss: 9.0559e-04 - accuracy: 1.0000 - val_loss: 0.0158 - val_accuracy: 1.0000 - lr: 5.1200e-04\n",
            "Epoch 9/10\n",
            "15/15 [==============================] - ETA: 0s - loss: 3.1479e-04 - accuracy: 1.0000\n",
            "Epoch 00009: val_accuracy did not improve from 1.00000\n",
            "15/15 [==============================] - 32s 2s/step - loss: 3.1479e-04 - accuracy: 1.0000 - val_loss: 2.0631e-04 - val_accuracy: 1.0000 - lr: 5.1200e-04\n",
            "Epoch 10/10\n",
            "15/15 [==============================] - ETA: 0s - loss: 0.0040 - accuracy: 0.9979\n",
            "Epoch 00010: val_accuracy did not improve from 1.00000\n",
            "15/15 [==============================] - 31s 2s/step - loss: 0.0040 - accuracy: 0.9979 - val_loss: 5.1965e-06 - val_accuracy: 1.0000 - lr: 5.1200e-04\n"
          ],
          "name": "stdout"
        }
      ]
    },
    {
      "cell_type": "code",
      "metadata": {
        "id": "wOkgWe0zYF-u",
        "colab_type": "code",
        "colab": {
          "base_uri": "https://localhost:8080/",
          "height": 290
        },
        "outputId": "109ef3bc-fc25-40bc-b199-3ea2c45c7658"
      },
      "source": [
        "image_path = '/content/'\n",
        "\n",
        "from IPython.display import Image\n",
        "\n",
        "image_check = 'goodcop.jpg'\n",
        "\n",
        "Image(image_path+image_check)"
      ],
      "execution_count": null,
      "outputs": [
        {
          "output_type": "execute_result",
          "data": {
            "image/jpeg": "[encoded data removed]",
            "text/plain": [
              "<IPython.core.display.Image object>"
            ]
          },
          "metadata": {
            "tags": []
          },
          "execution_count": 37
        }
      ]
    },
    {
      "cell_type": "code",
      "metadata": {
        "id": "5Tr2MNUhY5Yq",
        "colab_type": "code",
        "colab": {
          "base_uri": "https://localhost:8080/",
          "height": 54
        },
        "outputId": "d0634355-f21e-45a7-f909-b40f4f108ea3"
      },
      "source": [
        "from keras.applications.imagenet_utils import preprocess_input, decode_predictions\n",
        "import numpy as np\n",
        "\n",
        "img_path = os.path.join(image_path, image_check)\n",
        "print(img_path)\n",
        "img = image.load_img(img_path, target_size=(300, 300))\n",
        "x = image.img_to_array(img)\n",
        "x = np.expand_dims(x, axis=0)\n",
        "x = preprocess_input(x)\n",
        "print('Input image shape:', x.shape)"
      ],
      "execution_count": null,
      "outputs": [
        {
          "output_type": "stream",
          "text": [
            "/content/goodcop.jpg\n",
            "Input image shape: (1, 300, 300, 3)\n"
          ],
          "name": "stdout"
        }
      ]
    },
    {
      "cell_type": "code",
      "metadata": {
        "id": "-Dl0r0otZOS7",
        "colab_type": "code",
        "colab": {
          "base_uri": "https://localhost:8080/",
          "height": 35
        },
        "outputId": "de4590e6-a5a5-41b4-e01a-311034ab1dd6"
      },
      "source": [
        "preds = model_2.predict(x)\n",
        "print('Predicted:', preds)"
      ],
      "execution_count": null,
      "outputs": [
        {
          "output_type": "stream",
          "text": [
            "Predicted: [[0.00822057 0.9917794 ]]\n"
          ],
          "name": "stdout"
        }
      ]
    },
    {
      "cell_type": "code",
      "metadata": {
        "id": "w1G34r3kQk7t",
        "colab_type": "code",
        "colab": {
          "base_uri": "https://localhost:8080/",
          "height": 35
        },
        "outputId": "98ec4668-237c-42cd-8725-962e454c2120"
      },
      "source": [
        "result = preds[0][0]\n",
        "if result < preds[0][1]:\n",
        "  print(\"Good cop\")\n",
        "else:\n",
        "  print(\"Bad Cop No Doughnut\")"
      ],
      "execution_count": null,
      "outputs": [
        {
          "output_type": "stream",
          "text": [
            "Good cop\n"
          ],
          "name": "stdout"
        }
      ]
    },
    {
      "cell_type": "code",
      "metadata": {
        "id": "vSNb1DbCWBJg",
        "colab_type": "code",
        "colab": {
          "base_uri": "https://localhost:8080/",
          "height": 204
        },
        "outputId": "e837b2cd-03f6-45f0-d31d-e13403b41c1f"
      },
      "source": [
        "image_check = 'badcop.jpg'\n",
        "\n",
        "Image(image_path+image_check)"
      ],
      "execution_count": null,
      "outputs": [
        {
          "output_type": "execute_result",
          "data": {
            "image/jpeg": "[encoded data removed]",
            "text/plain": [
              "<IPython.core.display.Image object>"
            ]
          },
          "metadata": {
            "tags": []
          },
          "execution_count": 31
        }
      ]
    },
    {
      "cell_type": "code",
      "metadata": {
        "id": "xl871kXBZlpl",
        "colab_type": "code",
        "colab": {
          "base_uri": "https://localhost:8080/",
          "height": 54
        },
        "outputId": "4e750dad-1629-422a-ec81-bad406b4b41c"
      },
      "source": [
        "img_path = os.path.join(image_path, image_check)\n",
        "print(img_path)\n",
        "img = image.load_img(img_path, target_size=(300, 300))\n",
        "x = image.img_to_array(img)\n",
        "x = np.expand_dims(x, axis=0)\n",
        "x = preprocess_input(x)\n",
        "\n",
        "preds = model_2.predict(x)\n",
        "print('Predicted:', preds)"
      ],
      "execution_count": null,
      "outputs": [
        {
          "output_type": "stream",
          "text": [
            "/content/badcop.jpg\n",
            "Predicted: [[9.9999893e-01 1.0625163e-06]]\n"
          ],
          "name": "stdout"
        }
      ]
    },
    {
      "cell_type": "code",
      "metadata": {
        "id": "8JsSTGa8Zlt4",
        "colab_type": "code",
        "colab": {
          "base_uri": "https://localhost:8080/",
          "height": 35
        },
        "outputId": "42abbfc0-f9fc-4d65-bba4-552f389ae48e"
      },
      "source": [
        "if result < preds[0][1]:\n",
        "  print(\"Good cop\")\n",
        "else:\n",
        "  print(\"Bad Cop No Doughnut\")"
      ],
      "execution_count": null,
      "outputs": [
        {
          "output_type": "stream",
          "text": [
            "Bad Cop No Doughnut\n"
          ],
          "name": "stdout"
        }
      ]
    },
    {
      "cell_type": "code",
      "metadata": {
        "id": "FUkKUV3ucvaU",
        "colab_type": "code",
        "colab": {
          "base_uri": "https://localhost:8080/",
          "height": 197
        },
        "outputId": "4f0fb8f6-bc85-42bc-aa33-a9754c6a2d73"
      },
      "source": [
        "image_check = 'badcop2.jpg'\n",
        "\n",
        "Image(image_path+image_check)\n",
        "\n"
      ],
      "execution_count": null,
      "outputs": [
        {
          "output_type": "execute_result",
          "data": {
            "image/jpeg": "[encoded data removed]",
            "text/plain": [
              "<IPython.core.display.Image object>"
            ]
          },
          "metadata": {
            "tags": []
          },
          "execution_count": 35
        }
      ]
    },
    {
      "cell_type": "code",
      "metadata": {
        "id": "sZHhaJz-dMMQ",
        "colab_type": "code",
        "colab": {
          "base_uri": "https://localhost:8080/",
          "height": 72
        },
        "outputId": "e24a011d-545d-4085-83a2-61a98d9788e4"
      },
      "source": [
        "img_path = os.path.join(image_path, image_check)\n",
        "print(img_path)\n",
        "img = image.load_img(img_path, target_size=(300, 300))\n",
        "x = image.img_to_array(img)\n",
        "x = np.expand_dims(x, axis=0)\n",
        "x = preprocess_input(x)\n",
        "\n",
        "preds = model_2.predict(x)\n",
        "print('Predicted:', preds)\n",
        "\n",
        "\n",
        "if result < preds[0][1]:\n",
        "  print(\"Good cop\")\n",
        "else:\n",
        "  print(\"Bad Cop No Doughnut\")"
      ],
      "execution_count": null,
      "outputs": [
        {
          "output_type": "stream",
          "text": [
            "/content/badcop2.jpg\n",
            "Predicted: [[9.993569e-01 6.430212e-04]]\n",
            "Bad Cop No Doughnut\n"
          ],
          "name": "stdout"
        }
      ]
    },
    {
      "cell_type": "markdown",
      "metadata": {
        "id": "L2UrKV7zdokp",
        "colab_type": "text"
      },
      "source": [
        "This model is kinda lit!"
      ]
    }
  ]
}